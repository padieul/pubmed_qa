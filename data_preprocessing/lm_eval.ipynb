{
 "cells": [
  {
   "cell_type": "code",
   "execution_count": 33,
   "metadata": {},
   "outputs": [],
   "source": [
    "from transformers import pipeline\n",
    "\n",
    "# Load the question-answering pipeline with your chosen model\n",
    "model_name1 = \"distilbert-base-uncased-distilled-squad\"  # Example model\n",
    "\n",
    "qa_pipeline1 = pipeline(\"question-answering\", model=model_name1)\n",
    "\n",
    "# get tokenizer of the model\n",
    "tokenizer1 = qa_pipeline1.tokenizer\n",
    "# apply tokenizer to sentence\n",
    "tokens1 = tokenizer1(\"What is the name of the repository ?\", return_tensors=\"pt\")\n"
   ]
  },
  {
   "cell_type": "code",
   "execution_count": 38,
   "metadata": {},
   "outputs": [
    {
     "name": "stdout",
     "output_type": "stream",
     "text": [
      "{'score': 0.1927037388086319, 'start': 4490, 'end': 4499, 'answer': 'pregnancy'}\n"
     ]
    }
   ],
   "source": [
    "# Prepare your question and context\n",
    "context = \"CLINICAL CHARACTERISTICS: Achondroplasia is the most common cause of disproportionate short stature. Affected individuals have rhizomelic shortening of the limbs, macrocephaly, and characteristic facial features with frontal bossing and midface retrusion. In infancy, hypotonia is typical, and acquisition of developmental motor milestones is often both aberrant in pattern and delayed. Intelligence and life span are usually near normal, although craniocervical junction compression increases the risk of death in infancy. Additional complications include obstructive sleep apnea, middle ear dysfunction, kyphosis, and spinal stenosis. DIAGNOSIS/TESTING: Achondroplasia can be diagnosed by characteristic clinical and radiographic findings in most affected individuals. In individuals in whom there is diagnostic uncertainty or who have atypical findings, identification of a heterozygous pathogenic variant in FGFR3 can establish the diagnosis. MANAGEMENT: Treatment of manifestations: Vosoritide, a C-type natriuretic peptide (CNP) analog, was recently approved to enhance height in individuals with achondroplasia from age five years until growth plates close. Ventriculoperitoneal shunt may be required for increased intracranial pressure; suboccipital decompression as indicated for signs and symptoms of craniocervical junction compression; adenotonsillectomy, positive airway pressure, and, rarely, tracheostomy to correct obstructive sleep apnea; pressure-equalizing tubes for middle ear dysfunction; monitor and treat obesity; evaluation and treatment by an orthopedist if progressive bowing of the legs arises; spinal surgery may be needed for severe, persistent kyphosis; surgery to correct spinal stenosis in symptomatic adults; modification in the school and work setting to optimize function; educational support in socialization and school adjustment. Surveillance: Monitor height, weight, and head circumference in childhood using growth curves standardized for achondroplasia; evaluation of developmental milestones throughout infancy and childhood using achondroplasia-specific standards; baseline neuroimaging of craniocervical junction and brain in infancy; neurologic examinations monitoring for signs of cervical myelopathy; monitor for signs and symptoms of sleep apnea; hearing evaluation as a newborn and tympanometric and behavioral audiometric evaluation by age approximately one year; monitor for middle ear problems or evidence of hearing loss in childhood; clinical assessment for kyphosis and bowed legs, with radiographic evaluation and referral to an orthopedist if necessary; in adults, clinical history and neurologic examination to screen for spinal stenosis with development of any new signs or symptoms or at least every three to five years; discuss social adjustment at each visit with primary care provider. Agents/circumstances to avoid: Rear-facing car seats should be used as long as possible to avoid injury from motor vehicle accident. Avoid soft-back infant seats and front carriers without a firm back. Avoid activities in which there is risk of injury to the craniocervical junction, such as collision sports; use of a trampoline; diving from diving boards; vaulting in gymnastics; and hanging upside down from the knees or feet on playground equipment (due to risk of falling onto the head or neck). Pregnancy management: Pregnant women with achondroplasia must undergo cesarean section delivery because of small pelvic size. GENETIC COUNSELING: Achondroplasia is inherited in an autosomal dominant manner. Around 80% of individuals with achondroplasia have parents with average stature and have achondroplasia as the result of a de novo pathogenic variant. Such parents have a very low risk of having another child with achondroplasia. An individual with achondroplasia who has a reproductive partner with average stature is at 50% risk in each pregnancy of having a child with achondroplasia. When both parents have achondroplasia, the risk to their offspring of having average stature is 25%; of having achondroplasia, 50%; and of having homozygous achondroplasia (a lethal condition), 25%. If the proband and the proband's reproductive partner are affected with different dominantly inherited skeletal dysplasias, genetic counseling becomes more complicated because of the risk of inheriting two dominant skeletal dysplasias. If the FGFR3 pathogenic variant has been identified in the affected parent or parents, prenatal testing for a pregnancy at increased risk for achondroplasia is possible.\"\n",
    "question = \"When is prenatal testing possible?\"\n",
    "\n",
    "# Get the answer\n",
    "answer = qa_pipeline1(question=question, context=context)\n",
    "tokenizer1 = qa_pipeline1.tokenizer\n",
    "# apply tokenizer to sentence\n",
    "tokens1 = tokenizer1(\"context\", return_tensors=\"pt\")\n",
    "print(len(tokens1))\n",
    "print(answer)"
   ]
  },
  {
   "cell_type": "code",
   "execution_count": 39,
   "metadata": {},
   "outputs": [
    {
     "name": "stdout",
     "output_type": "stream",
     "text": [
      "{'score': 0.10013529658317566, 'start': 4380, 'end': 4411, 'answer': 'If the FGFR3 pathogenic variant'}\n"
     ]
    }
   ],
   "source": [
    "model_name2 = \"deepset/roberta-base-squad2\"  # Example model\n",
    "qa_pipeline2 = pipeline(\"question-answering\", model=model_name2)\n",
    "answer = qa_pipeline2(question=question, context=context)\n",
    "print(answer)"
   ]
  },
  {
   "cell_type": "code",
   "execution_count": 40,
   "metadata": {},
   "outputs": [
    {
     "name": "stdout",
     "output_type": "stream",
     "text": [
      "{'score': 0.01418150495737791, 'start': 4488, 'end': 4536, 'answer': 'a pregnancy at increased risk for achondroplasia'}\n"
     ]
    }
   ],
   "source": [
    "model_name3 = \"Intel/dynamic_tinybert\"\n",
    "qa_pipeline3 = pipeline(\"question-answering\", model=model_name3)\n",
    "answer = qa_pipeline3(question=question, context=context)\n",
    "print(answer)"
   ]
  },
  {
   "cell_type": "code",
   "execution_count": 7,
   "metadata": {},
   "outputs": [],
   "source": [
    "import os\n",
    "\n",
    "os.environ[\"REPLICATE_API_TOKEN\"] = \"r8_2zzVeIYdFWjnIsPnJ1KgQhbPpTERWxr34aTN1\"\n"
   ]
  },
  {
   "cell_type": "code",
   "execution_count": 12,
   "metadata": {},
   "outputs": [],
   "source": [
    "import replicate"
   ]
  },
  {
   "cell_type": "code",
   "execution_count": null,
   "metadata": {},
   "outputs": [],
   "source": [
    "class LLMModel:\n",
    "    '''\n",
    "    '''\n",
    "    def __call__(prompt: str=None) -> str:\n",
    "        output=replicate.run(\n",
    "                \"meta/llama-2-70b-chat:02e509c789964a7ea8736978a43525956ef40397be9033abf9fd2badfe68c9e3\",\n",
    "                input={\n",
    "                    \"prompt\": prompt\n",
    "                }\n",
    "            )   \n",
    "        return \"\".join(output)     \n",
    "\n",
    "    def invoke(prompt: str=None) -> str:\n",
    "        return self.__call__(prompt)"
   ]
  },
  {
   "cell_type": "code",
   "execution_count": 24,
   "metadata": {},
   "outputs": [
    {
     "name": "stdout",
     "output_type": "stream",
     "text": [
      "<class 'generator'>\n"
     ]
    }
   ],
   "source": [
    "output = replicate.run(\n",
    "    \"meta/llama-2-70b-chat:02e509c789964a7ea8736978a43525956ef40397be9033abf9fd2badfe68c9e3\",\n",
    "    input={\n",
    "        \"prompt\": \"Can you write a poem about open source machine learning?\"\n",
    "    }\n",
    ")\n",
    "print(type(output))"
   ]
  },
  {
   "cell_type": "code",
   "execution_count": 26,
   "metadata": {},
   "outputs": [],
   "source": [
    "result = \"\".join(output)"
   ]
  },
  {
   "cell_type": "code",
   "execution_count": 27,
   "metadata": {},
   "outputs": [
    {
     "name": "stdout",
     "output_type": "stream",
     "text": [
      " Sure! Here's a poem about open source machine learning:\n",
      "\n",
      "In the land of code, where freedom reigns,\n",
      "A movement grew, with principles profound,\n",
      "Open source, a gift to all humanity,\n",
      "Machine learning, for you and me to see.\n",
      "\n",
      "The pioneers, they paved the way,\n",
      "With algorithms, models, data in play,\n",
      "TensorFlow, PyTorch, Scikit-learn,\n",
      "Tools for all, to learn and yearn.\n",
      "\n",
      "Collaboration, the heart of it all,\n",
      "Developers, researchers, standing tall,\n"
     ]
    }
   ],
   "source": [
    "print(result)"
   ]
  }
 ],
 "metadata": {
  "kernelspec": {
   "display_name": "qa_env",
   "language": "python",
   "name": "python3"
  },
  "language_info": {
   "codemirror_mode": {
    "name": "ipython",
    "version": 3
   },
   "file_extension": ".py",
   "mimetype": "text/x-python",
   "name": "python",
   "nbconvert_exporter": "python",
   "pygments_lexer": "ipython3",
   "version": "3.10.11"
  }
 },
 "nbformat": 4,
 "nbformat_minor": 2
}
