{
 "cells": [
  {
   "cell_type": "code",
   "execution_count": 12,
   "metadata": {},
   "outputs": [],
   "source": [
    "from opensearchpy import OpenSearch\n",
    "from angle_emb import AnglE, Prompts"
   ]
  },
  {
   "cell_type": "code",
   "execution_count": null,
   "metadata": {},
   "outputs": [],
   "source": [
    "# Initialize AnglE embedding model\n",
    "angle = AnglE.from_pretrained('WhereIsAI/UAE-Large-V1', pooling_strategy='cls').cuda()\n",
    "# Enable Prompt.C for retrieval optimized embeddings\n",
    "angle.set_prompt(prompt=Prompts.C)   "
   ]
  },
  {
   "cell_type": "code",
   "execution_count": 13,
   "metadata": {},
   "outputs": [],
   "source": [
    "# OpenSearch instance parameters\n",
    "host = 'localhost'\n",
    "port = 9200\n",
    "auth = ('admin', 'admin')\n",
    "\n",
    "# Create the client with SSL/TLS enabled and disable warnings\n",
    "client = OpenSearch(\n",
    "    hosts = [{'host': host, 'port': port}],    \n",
    "    http_auth = auth,\n",
    "    use_ssl = True,\n",
    "    verify_certs = False,\n",
    "    ssl_show_warn = False,\n",
    ")"
   ]
  },
  {
   "cell_type": "code",
   "execution_count": null,
   "metadata": {},
   "outputs": [],
   "source": [
    "# Testing connection to OpenSearch\n",
    "client.info()"
   ]
  },
  {
   "cell_type": "code",
   "execution_count": null,
   "metadata": {},
   "outputs": [],
   "source": [
    "# Query embedding\n",
    "query = \"where does hypotonia typically appear?\"\n",
    "query_emb = angle.encode({'text': query})"
   ]
  },
  {
   "cell_type": "code",
   "execution_count": 14,
   "metadata": {},
   "outputs": [],
   "source": [
    "# Defining the knn query parameters\n",
    "search_query_desne = {    \n",
    "    \"query\": {\n",
    "        \"knn\": {\n",
    "            \"embedding\": {\n",
    "                \"vector\": query_emb[0].tolist(),\n",
    "                \"k\": 3\n",
    "            }\n",
    "        }\n",
    "    }\n",
    "}\n",
    "\n",
    "search_query_sparse = {\n",
    "  \"query\": {\n",
    "    \"match\": {\n",
    "      \"chunk\": \"where hypotonia is typical?\"\n",
    "    }\n",
    "  }\n",
    "}"
   ]
  },
  {
   "cell_type": "code",
   "execution_count": 16,
   "metadata": {},
   "outputs": [],
   "source": [
    "# Send a knn query to OpenSearch\n",
    "results_dense = client.search(index=\"pubmed_500_200\", body=search_query_desne)\n",
    "results_sparse = client.search(index=\"pubmed_500_200\", body=search_query_sparse)"
   ]
  },
  {
   "cell_type": "code",
   "execution_count": 17,
   "metadata": {},
   "outputs": [],
   "source": [
    "# Helper function to view the reposes easily\n",
    "def pretty_response(response):\n",
    "    for hit in response['hits']['hits']:\n",
    "        id = hit['_id']\n",
    "        score = hit['_score']\n",
    "        pmid = hit['_source']['pmid']\n",
    "        chunk_id = hit['_source']['chunk_id']  \n",
    "        chunk = hit['_source']['chunk']      \n",
    "        pretty_output = (f\"\\nID: {id}\\nPMID: {pmid}\\nChunk ID: {chunk_id}\\nText: {chunk}\")\n",
    "        print(pretty_output)"
   ]
  },
  {
   "cell_type": "code",
   "execution_count": 18,
   "metadata": {},
   "outputs": [
    {
     "name": "stdout",
     "output_type": "stream",
     "text": [
      "\n",
      "ID: owtVOI0BrWW60NSubD18\n",
      "PMID: 23333410\n",
      "Chunk ID: 6\n",
      "Text: VIQ score in the severe delay range. Abnormal muscle tonicity was found in 35% (hypotonicity 33%, hypertonicity 2%). Need for ECMO, prolonged ventilation, hypotonicity, and other surrogate markers of disease severity (P<0.05) were associated with borderline or delayed neurological outcome. CONCLUSION: The majority of CDH children are functioning in the average range at early preschool and preschool age. Neuromuscular hypotonicity is common in CDH survivors. CDH severity appears to be predictive\n",
      "\n",
      "ID: DQtVOI0BrWW60NSuZDy8\n",
      "PMID: 20301331\n",
      "Chunk ID: 1\n",
      "Text: In infancy, hypotonia is typical, and acquisition of developmental motor milestones is often both aberrant in pattern and delayed. Intelligence and life span are usually near normal, although craniocervical junction compression increases the risk of death in infancy. Additional complications include obstructive sleep apnea, middle ear dysfunction, kyphosis, and spinal stenosis. DIAGNOSIS/TESTING: Achondroplasia can be diagnosed by characteristic clinical and radiographic findings in most\n",
      "\n",
      "ID: ogtVOI0BrWW60NSubD18\n",
      "PMID: 23333410\n",
      "Chunk ID: 5\n",
      "Text: least one. Only 3 (7%) patients demonstrated severe neurological delays for all BSID-III composite scales. For the WPPSI-III group, 4 (22%) patients scored within the borderline-delayed range for at least one subscale and only one (6%) child had a WPPSI-III VIQ score in the severe delay range. Abnormal muscle tonicity was found in 35% (hypotonicity 33%, hypertonicity 2%). Need for ECMO, prolonged ventilation, hypotonicity, and other surrogate markers of disease severity (P<0.05) were associated\n"
     ]
    }
   ],
   "source": [
    "pretty_response(results_dense)"
   ]
  },
  {
   "cell_type": "code",
   "execution_count": null,
   "metadata": {},
   "outputs": [],
   "source": []
  },
  {
   "cell_type": "code",
   "execution_count": 18,
   "metadata": {},
   "outputs": [
    {
     "name": "stdout",
     "output_type": "stream",
     "text": [
      "\n",
      "ID: YFp_jo0BpMUo9zd-4lLx\n",
      "PMID: 20301331\n",
      "Chunk ID: 0\n",
      "Text: CLINICAL CHARACTERISTICS: Achondroplasia is the most common cause of disproportionate short stature. Affected individuals have rhizomelic shortening of the limbs, macrocephaly, and characteristic facial features with frontal bossing and midface retrusion. In infancy, hypotonia is typical, and acquisition of developmental motor milestones is often both aberrant in pattern and delayed. Intelligence and life span are usually near normal, although craniocervical junction compression increases the\n",
      "\n",
      "ID: sVqAjo0BpMUo9zd-8vb4\n",
      "PMID: 30503982\n",
      "Chunk ID: 1\n",
      "Text: these strategies and quantify patients' gait stability in the current clinical routine would be of great benefit for health professionals, allowing them to design personalized rehabilitation programs. This is particularly true for children with DS and PWS, where motor development is dramatically constrained by severe hypotonia and muscle weakness. The aim of this study was, thus, to propose an instrumented protocol, integrated with the clinical routine and based on the use of wearable inertial\n",
      "\n",
      "ID: LVqAjo0BpMUo9zd-TJHf\n",
      "PMID: 26395259\n",
      "Chunk ID: 0\n",
      "Text: We present a Caucasian female, who was diagnosed at 13 years of age with Temple syndrome (formerly referred to as \"maternal UPD 14 phenotype\") due to an epigenetic loss of methylation at IG-DMR/MEG3-DMR at the chromosome 14q32 imprinted locus. Clinical features were typical and included intra-uterine growth retardation (IUGR), low birth weight, hypotonia, and poor feeding in the neonatal period; and failure to thrive and developmental delay--particularly in relation to speech--in early\n",
      "\n",
      "ID: YFqAjo0BpMUo9zd-FG40\n",
      "PMID: 24778697\n",
      "Chunk ID: 2\n",
      "Text: external capsule involvement. Immunohistochemical staining of muscle fibers including merosin, is important to evaluate patients with hypotonia, delayed motor development, and abnormal white matter changes.\n",
      "\n",
      "ID: ZFuBjo0BpMUo9zd-XTrk\n",
      "PMID: 31913801\n",
      "Chunk ID: 1\n",
      "Text: for 52 children with mild-to-severe hearing losses. A group of 52 children with typical hearing matched for age, nonverbal intelligence, and socioeconomic status was included as a comparison group representing the range of optimal language outcomes. Two audibility-based criteria were considered: (a) the level of unaided hearing where unaided children with hearing loss fell below the median for children with typical hearing and (b) the level of unaided hearing where the slope of language\n",
      "\n",
      "ID: dF2Fjo0BpMUo9zd-Y9Wx\n",
      "PMID: 37864543\n",
      "Chunk ID: 0\n",
      "Text: Cross-institution collaborations are constrained by data-sharing challenges. These challenges hamper innovation, particularly in artificial intelligence, where models require diverse data to ensure strong performance. Federated learning (FL) solves data-sharing challenges. In typical collaborations, data is sent to a central repository where models are trained. With FL, models are sent to participating sites, trained locally, and model weights aggregated to create a master model with improved\n",
      "\n",
      "ID: W1qAjo0BpMUo9zd-T5IG\n",
      "PMID: 26438614\n",
      "Chunk ID: 2\n",
      "Text: and electrophysiological nerve and muscle testing. RESULTS: At baseline, hypotonia, deficiencies in gesture conception or realization, and attention disorders were common. SU improved HbA1c levels (median change -1.55% [range -3.8 to 0.1]; P < 0.0001), intelligence scores, hypotonia (in 12 of 15 patients), visual attention deficits (in 10 of 13 patients), gross and fine motor skills (in all patients younger than 4 years old), and gesture conception and realization (in 5 of 8 older patients).\n",
      "\n",
      "ID: h1qBjo0BpMUo9zd-Afzy\n",
      "PMID: 30648985\n",
      "Chunk ID: 1\n",
      "Text: been recommended by the PCP several times in the past, but the family declined. At one point, the PCP had considered potential child protective services (CPS) referral for medical neglect because of missed appointments and lack of follow-through on recommendations, which motivated the parent to bring him to this appointment.Medical history was significant for failure to thrive and hypotonia in infancy. Charles received physical therapy through early childhood for hypotonia and motor\n",
      "\n",
      "ID: A1uCjo0BpMUo9zd-Jr4E\n",
      "PMID: 33733356\n",
      "Chunk ID: 1\n",
      "Text: the organism's phenotype. Machine learning is an area of computer science that develops statistical methods able to recognize patterns from data. A typical machine learning algorithm consists of a training phase, where the model learns to recognize specific trends in the data, and a test phase, where the trained model applies its learned intelligence to recognize trends in external data. Scientists have applied machine learning to epistasis problems multiple times, especially to identify\n",
      "\n",
      "ID: a1qAjo0BpMUo9zd-X5mZ\n",
      "PMID: 26759440\n",
      "Chunk ID: 2\n",
      "Text: mixed retinal dystrophy and an AHI1 homozygous missense c.1981T>C mutation was identified (parents are carriers). Throughout infancy, she has shown mild developmental delay and hypotonia, but no respiratory abnormalities. Owing to variable expressivity, a high level of suspicion is required.\n"
     ]
    }
   ],
   "source": [
    "pretty_response(results_sparse)"
   ]
  }
 ],
 "metadata": {
  "kernelspec": {
   "display_name": "Python 3",
   "language": "python",
   "name": "python3"
  },
  "language_info": {
   "codemirror_mode": {
    "name": "ipython",
    "version": 3
   },
   "file_extension": ".py",
   "mimetype": "text/x-python",
   "name": "python",
   "nbconvert_exporter": "python",
   "pygments_lexer": "ipython3",
   "version": "3.11.5"
  }
 },
 "nbformat": 4,
 "nbformat_minor": 2
}
