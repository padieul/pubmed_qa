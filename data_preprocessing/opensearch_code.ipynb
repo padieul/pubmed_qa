{
 "cells": [
  {
   "cell_type": "code",
   "execution_count": 1,
   "metadata": {},
   "outputs": [
    {
     "name": "stderr",
     "output_type": "stream",
     "text": [
      "c:\\Users\\a.almasri\\AppData\\Local\\Programs\\Python\\Python39\\lib\\site-packages\\bitsandbytes\\cextension.py:34: UserWarning: The installed version of bitsandbytes was compiled without GPU support. 8-bit optimizers, 8-bit multiplication, and GPU quantization are unavailable.\n",
      "  warn(\"The installed version of bitsandbytes was compiled without GPU support. \"\n"
     ]
    },
    {
     "name": "stdout",
     "output_type": "stream",
     "text": [
      "'NoneType' object has no attribute 'cadam32bit_grad_fp32'\n",
      "WARNING:tensorflow:From c:\\Users\\a.almasri\\AppData\\Local\\Programs\\Python\\Python39\\lib\\site-packages\\keras\\src\\losses.py:2976: The name tf.losses.sparse_softmax_cross_entropy is deprecated. Please use tf.compat.v1.losses.sparse_softmax_cross_entropy instead.\n",
      "\n"
     ]
    }
   ],
   "source": [
    "from opensearchpy import OpenSearch\n",
    "from angle_emb import AnglE, Prompts"
   ]
  },
  {
   "cell_type": "code",
   "execution_count": 2,
   "metadata": {},
   "outputs": [
    {
     "name": "stderr",
     "output_type": "stream",
     "text": [
      "INFO:AnglE:Prompt is set, the prompt will be automatically applied during the encoding phase. To disable prompt setting, please configure set_prompt(prompt=None)\n"
     ]
    }
   ],
   "source": [
    "# Initialize AnglE embedding model\n",
    "angle = AnglE.from_pretrained('WhereIsAI/UAE-Large-V1', pooling_strategy='cls').cuda()\n",
    "# Enable Prompt.C for retrieval optimized embeddings\n",
    "angle.set_prompt(prompt=Prompts.C)   "
   ]
  },
  {
   "cell_type": "code",
   "execution_count": 3,
   "metadata": {},
   "outputs": [],
   "source": [
    "# OpenSearch instance parameters\n",
    "host = 'localhost'\n",
    "port = 9200\n",
    "auth = ('admin', 'admin')\n",
    "\n",
    "# Create the client with SSL/TLS enabled and disable warnings\n",
    "client = OpenSearch(\n",
    "    hosts = [{'host': host, 'port': port}],    \n",
    "    http_auth = auth,\n",
    "    use_ssl = True,\n",
    "    verify_certs = False,\n",
    "    ssl_show_warn = False,\n",
    ")"
   ]
  },
  {
   "cell_type": "code",
   "execution_count": 4,
   "metadata": {},
   "outputs": [
    {
     "name": "stderr",
     "output_type": "stream",
     "text": [
      "INFO:opensearch:GET https://localhost:9200/ [status:200 request:2.076s]\n"
     ]
    },
    {
     "data": {
      "text/plain": [
       "{'name': 'opensearch',\n",
       " 'cluster_name': 'docker-cluster',\n",
       " 'cluster_uuid': 'ghgK1h_FSeefVD9yf6_gag',\n",
       " 'version': {'distribution': 'opensearch',\n",
       "  'number': '2.11.1',\n",
       "  'build_type': 'tar',\n",
       "  'build_hash': '6b1986e964d440be9137eba1413015c31c5a7752',\n",
       "  'build_date': '2023-11-29T21:43:10.135035992Z',\n",
       "  'build_snapshot': False,\n",
       "  'lucene_version': '9.7.0',\n",
       "  'minimum_wire_compatibility_version': '7.10.0',\n",
       "  'minimum_index_compatibility_version': '7.0.0'},\n",
       " 'tagline': 'The OpenSearch Project: https://opensearch.org/'}"
      ]
     },
     "execution_count": 4,
     "metadata": {},
     "output_type": "execute_result"
    }
   ],
   "source": [
    "# Testing connection to OpenSearch\n",
    "client.info()"
   ]
  },
  {
   "cell_type": "code",
   "execution_count": 5,
   "metadata": {},
   "outputs": [],
   "source": [
    "# Query embedding\n",
    "query = \"where does hypotonia typically appear?\"\n",
    "query_emb = angle.encode({'text': query})"
   ]
  },
  {
   "cell_type": "code",
   "execution_count": 10,
   "metadata": {},
   "outputs": [],
   "source": [
    "# Defining the knn query parameters\n",
    "search_query_desne = {    \n",
    "    \"query\": {\n",
    "        \"knn\": {\n",
    "            \"embedding\": {\n",
    "                \"vector\": query_emb[0].tolist(),\n",
    "                \"k\": 3\n",
    "            }\n",
    "        }\n",
    "    }\n",
    "}\n",
    "\n",
    "search_query_sparse = {\n",
    "  \"query\": {\n",
    "    \"match\": {\n",
    "      \"chunk\": \"where hypotonia is typical?\"\n",
    "    }\n",
    "  }\n",
    "}"
   ]
  },
  {
   "cell_type": "code",
   "execution_count": 16,
   "metadata": {},
   "outputs": [
    {
     "name": "stderr",
     "output_type": "stream",
     "text": [
      "INFO:opensearch:POST https://localhost:9200/pubmed_500_200/_search [status:200 request:0.302s]\n",
      "INFO:opensearch:POST https://localhost:9200/pubmed_500_200/_search [status:200 request:0.076s]\n"
     ]
    }
   ],
   "source": [
    "# Send a knn query to OpenSearch\n",
    "results_dense = client.search(index=\"pubmed_500_200\", body=search_query_desne)\n",
    "results_sparse = client.search(index=\"pubmed_500_200\", body=search_query_sparse)"
   ]
  },
  {
   "cell_type": "code",
   "execution_count": 17,
   "metadata": {},
   "outputs": [],
   "source": [
    "# Helper function to view the reposes easily\n",
    "def pretty_response(response):\n",
    "    for hit in response['hits']['hits']:\n",
    "        id = hit['_id']\n",
    "        score = hit['_score']\n",
    "        pmid = hit['_source']['pmid']\n",
    "        chunk_id = hit['_source']['chunk_id']  \n",
    "        chunk = hit['_source']['chunk']      \n",
    "        pretty_output = (f\"\\nID: {id}\\nPMID: {pmid}\\nChunk ID: {chunk_id}\\nText: {chunk}\")\n",
    "        print(pretty_output)"
   ]
  },
  {
   "cell_type": "code",
   "execution_count": 18,
   "metadata": {},
   "outputs": [
    {
     "name": "stdout",
     "output_type": "stream",
     "text": [
      "\n",
      "ID: owtVOI0BrWW60NSubD18\n",
      "PMID: 23333410\n",
      "Chunk ID: 6\n",
      "Text: VIQ score in the severe delay range. Abnormal muscle tonicity was found in 35% (hypotonicity 33%, hypertonicity 2%). Need for ECMO, prolonged ventilation, hypotonicity, and other surrogate markers of disease severity (P<0.05) were associated with borderline or delayed neurological outcome. CONCLUSION: The majority of CDH children are functioning in the average range at early preschool and preschool age. Neuromuscular hypotonicity is common in CDH survivors. CDH severity appears to be predictive\n",
      "\n",
      "ID: DQtVOI0BrWW60NSuZDy8\n",
      "PMID: 20301331\n",
      "Chunk ID: 1\n",
      "Text: In infancy, hypotonia is typical, and acquisition of developmental motor milestones is often both aberrant in pattern and delayed. Intelligence and life span are usually near normal, although craniocervical junction compression increases the risk of death in infancy. Additional complications include obstructive sleep apnea, middle ear dysfunction, kyphosis, and spinal stenosis. DIAGNOSIS/TESTING: Achondroplasia can be diagnosed by characteristic clinical and radiographic findings in most\n",
      "\n",
      "ID: ogtVOI0BrWW60NSubD18\n",
      "PMID: 23333410\n",
      "Chunk ID: 5\n",
      "Text: least one. Only 3 (7%) patients demonstrated severe neurological delays for all BSID-III composite scales. For the WPPSI-III group, 4 (22%) patients scored within the borderline-delayed range for at least one subscale and only one (6%) child had a WPPSI-III VIQ score in the severe delay range. Abnormal muscle tonicity was found in 35% (hypotonicity 33%, hypertonicity 2%). Need for ECMO, prolonged ventilation, hypotonicity, and other surrogate markers of disease severity (P<0.05) were associated\n"
     ]
    }
   ],
   "source": [
    "pretty_response(results_dense)"
   ]
  },
  {
   "cell_type": "code",
   "execution_count": 19,
   "metadata": {},
   "outputs": [
    {
     "name": "stdout",
     "output_type": "stream",
     "text": [
      "\n",
      "ID: DAtVOI0BrWW60NSuZDy8\n",
      "PMID: 20301331\n",
      "Chunk ID: 0\n",
      "Text: CLINICAL CHARACTERISTICS: Achondroplasia is the most common cause of disproportionate short stature. Affected individuals have rhizomelic shortening of the limbs, macrocephaly, and characteristic facial features with frontal bossing and midface retrusion. In infancy, hypotonia is typical, and acquisition of developmental motor milestones is often both aberrant in pattern and delayed. Intelligence and life span are usually near normal, although craniocervical junction compression increases the\n",
      "\n",
      "ID: DQtVOI0BrWW60NSuZDy8\n",
      "PMID: 20301331\n",
      "Chunk ID: 1\n",
      "Text: In infancy, hypotonia is typical, and acquisition of developmental motor milestones is often both aberrant in pattern and delayed. Intelligence and life span are usually near normal, although craniocervical junction compression increases the risk of death in infancy. Additional complications include obstructive sleep apnea, middle ear dysfunction, kyphosis, and spinal stenosis. DIAGNOSIS/TESTING: Achondroplasia can be diagnosed by characteristic clinical and radiographic findings in most\n",
      "\n",
      "ID: RwtVOI0BrWW60NSud0Ao\n",
      "PMID: 23430876\n",
      "Chunk ID: 2\n",
      "Text: degree of mental retardation, and recurrent infections. No definitive treatment is at present available.We report an 8-year girl with a typical PD facies, normal intelligence, and recurrent deep ulcerations complicated by infections. She was found to be compound heterozygous for two novel mutations in PEPD, c.1133delACG and c.1301delT, affecting the C-terminal end of the enzyme where the active site is located. Given her life-threatening course, she underwent allogeneic hematopoietic stem cell\n",
      "\n",
      "ID: SwtVOI0BrWW60NSuZDy8\n",
      "PMID: 20301635\n",
      "Chunk ID: 0\n",
      "Text: CLINICAL CHARACTERISTICS: PLOD1-related kyphoscoliotic Ehlers-Danlos syndrome (kEDS) is an autosomal recessive generalized connective tissue disorder characterized by hypotonia, early-onset kyphoscoliosis, and generalized joint hypermobility in association with skin fragility and ocular abnormality. Intelligence is normal. Life span may be normal, but affected individuals are at risk for rupture of medium-sized arteries. Adults with severe kyphoscoliosis are at risk for complications from\n",
      "\n",
      "ID: 3AtVOI0BrWW60NSuekCk\n",
      "PMID: 23451725\n",
      "Chunk ID: 6\n",
      "Text: techniques rely on skills where higher order language is at play including the ability to discuss opinions flexibly and to weigh interpretations. Therapists must be aware that there are areas that have potential for miscommunication with some adolescents and where inaccurate inferences may be made about their behavior. Furthermore, educators must consider resources for youth who may increasingly struggle in high school because of such difficulties.\n",
      "\n",
      "ID: KQtVOI0BrWW60NSufEFe\n",
      "PMID: 23462266\n",
      "Chunk ID: 1\n",
      "Text: depend on judging and avoiding potential dangers. The theoretic formula for TTC is 1/tau approximately theta'/sin theta, where theta and theta' are the visual angle and its variation, respectively, and the widely used approximation computational model is theta'/theta. However, both of these measures are too complex to be implemented by a biological neuronal model. We propose a new simple computational model: 1/tau approximately Mtheta-P/(theta+Q)+N, where M, P, Q, and N are constants that\n",
      "\n",
      "ID: YAtVOI0BrWW60NSuZDy8\n",
      "PMID: 20301686\n",
      "Chunk ID: 4\n",
      "Text: upper airway obstruction. Intelligence is typically normal. DIAGNOSIS/TESTING: The diagnosis of CCD spectrum disorder is established in an individual with typical clinical and radiographic findings and/or a heterozygous pathogenic variant in RUNX2 identified by molecular genetic testing. MANAGEMENT: Treatment of manifestations: If the cranial vault defect is significant, the head needs protection from blunt trauma; helmets may be used for high-risk activities. Surgical cosmesis for depressed\n",
      "\n",
      "ID: TAtVOI0BrWW60NSuZDy8\n",
      "PMID: 20301635\n",
      "Chunk ID: 1\n",
      "Text: association with skin fragility and ocular abnormality. Intelligence is normal. Life span may be normal, but affected individuals are at risk for rupture of medium-sized arteries. Adults with severe kyphoscoliosis are at risk for complications from restrictive lung disease, recurrent pneumonia, and cardiac failure. DIAGNOSIS/TESTING: The diagnosis of PLOD1-related kEDS is established in a proband with typical clinical findings and biallelic pathogenic (or likely pathogenic) variants in PLOD1\n",
      "\n",
      "ID: TQtVOI0BrWW60NSuZDy8\n",
      "PMID: 20301635\n",
      "Chunk ID: 2\n",
      "Text: restrictive lung disease, recurrent pneumonia, and cardiac failure. DIAGNOSIS/TESTING: The diagnosis of PLOD1-related kEDS is established in a proband with typical clinical findings and biallelic pathogenic (or likely pathogenic) variants in PLOD1 identified by molecular genetic testing. If only one or no pathogenic variant is identified, testing for a markedly increased ratio of deoxypyridinoline to pyridinoline crosslinks in urine measured by high-performance liquid chromatography (HPLC) (a\n",
      "\n",
      "ID: XwtVOI0BrWW60NSuZDy8\n",
      "PMID: 20301686\n",
      "Chunk ID: 3\n",
      "Text: of secondary dentition, failure to shed the primary teeth, and supernumerary teeth. Individuals with CCD spectrum disorder are at increased risk of developing recurrent sinus infections, recurrent ear infections leading to conductive hearing loss, and upper airway obstruction. Intelligence is typically normal. DIAGNOSIS/TESTING: The diagnosis of CCD spectrum disorder is established in an individual with typical clinical and radiographic findings and/or a heterozygous pathogenic variant in RUNX2\n"
     ]
    }
   ],
   "source": [
    "pretty_response(results_sparse)"
   ]
  }
 ],
 "metadata": {
  "kernelspec": {
   "display_name": "Python 3",
   "language": "python",
   "name": "python3"
  },
  "language_info": {
   "codemirror_mode": {
    "name": "ipython",
    "version": 3
   },
   "file_extension": ".py",
   "mimetype": "text/x-python",
   "name": "python",
   "nbconvert_exporter": "python",
   "pygments_lexer": "ipython3",
   "version": "3.9.0rc2"
  }
 },
 "nbformat": 4,
 "nbformat_minor": 2
}
