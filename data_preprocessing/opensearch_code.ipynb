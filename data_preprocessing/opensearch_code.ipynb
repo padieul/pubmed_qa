{
 "cells": [
  {
   "cell_type": "code",
   "execution_count": 50,
   "metadata": {},
   "outputs": [],
   "source": [
    "from opensearchpy import OpenSearch\n",
    "from sentence_transformers import SentenceTransformer"
   ]
  },
  {
   "cell_type": "code",
   "execution_count": 49,
   "metadata": {},
   "outputs": [],
   "source": [
    "# Loading BERT model all-mpnet-base-v2\n",
    "model = SentenceTransformer('all-mpnet-base-v2')"
   ]
  },
  {
   "cell_type": "code",
   "execution_count": 51,
   "metadata": {},
   "outputs": [],
   "source": [
    "# OpenSearch instance parameters\n",
    "host = 'localhost'\n",
    "port = 9200\n",
    "auth = ('admin', 'admin')\n",
    "\n",
    "# Create the client with SSL/TLS enabled and disable warnings\n",
    "client = OpenSearch(\n",
    "    hosts = [{'host': host, 'port': port}],    \n",
    "    http_auth = auth,\n",
    "    use_ssl = True,\n",
    "    verify_certs = False,\n",
    "    ssl_show_warn = False,\n",
    ")"
   ]
  },
  {
   "cell_type": "code",
   "execution_count": 62,
   "metadata": {},
   "outputs": [
    {
     "data": {
      "text/plain": [
       "{'name': 'opensearch',\n",
       " 'cluster_name': 'docker-cluster',\n",
       " 'cluster_uuid': 'ghgK1h_FSeefVD9yf6_gag',\n",
       " 'version': {'distribution': 'opensearch',\n",
       "  'number': '2.11.1',\n",
       "  'build_type': 'tar',\n",
       "  'build_hash': '6b1986e964d440be9137eba1413015c31c5a7752',\n",
       "  'build_date': '2023-11-29T21:43:10.135035992Z',\n",
       "  'build_snapshot': False,\n",
       "  'lucene_version': '9.7.0',\n",
       "  'minimum_wire_compatibility_version': '7.10.0',\n",
       "  'minimum_index_compatibility_version': '7.0.0'},\n",
       " 'tagline': 'The OpenSearch Project: https://opensearch.org/'}"
      ]
     },
     "execution_count": 62,
     "metadata": {},
     "output_type": "execute_result"
    }
   ],
   "source": [
    "# Testing connection to OpenSearch\n",
    "client.info()"
   ]
  },
  {
   "cell_type": "code",
   "execution_count": 63,
   "metadata": {},
   "outputs": [],
   "source": [
    "# Query embedding\n",
    "query = \"where does hypotonia typically appear?\"\n",
    "query_emb = model.encode(query)"
   ]
  },
  {
   "cell_type": "code",
   "execution_count": 64,
   "metadata": {},
   "outputs": [],
   "source": [
    "# Defining the knn query parameters\n",
    "search_query = {    \n",
    "    \"query\": {\n",
    "        \"knn\": {\n",
    "            \"embedding\": {\n",
    "                \"vector\": query_emb.tolist(),\n",
    "                \"k\": 3\n",
    "            }\n",
    "        }\n",
    "    }\n",
    "}"
   ]
  },
  {
   "cell_type": "code",
   "execution_count": 68,
   "metadata": {},
   "outputs": [],
   "source": [
    "# Send a knn query to OpenSearch\n",
    "results = client.search(index=\"pubmed_index\", body=search_query)"
   ]
  },
  {
   "cell_type": "code",
   "execution_count": 69,
   "metadata": {},
   "outputs": [],
   "source": [
    "# Helper function to view the reposes easily\n",
    "def pretty_response(response):\n",
    "    for hit in response['hits']['hits']:\n",
    "        id = hit['_id']\n",
    "        score = hit['_score']\n",
    "        pmid = hit['_source']['pmid']\n",
    "        chunk_id = hit['_source']['chunk_id']  \n",
    "        chunk = hit['_source']['chunk']      \n",
    "        pretty_output = (f\"\\nID: {id}\\nPMID: {pmid}\\nChunk ID: {chunk_id}\\nText: {chunk}\")\n",
    "        print(pretty_output)"
   ]
  },
  {
   "cell_type": "code",
   "execution_count": 70,
   "metadata": {},
   "outputs": [
    {
     "name": "stdout",
     "output_type": "stream",
     "text": [
      "\n",
      "ID: nwDXHI0BUtdyfxKMHCHL\n",
      "PMID: 23414618\n",
      "Chunk ID: 1\n",
      "Text: LPFC. In addition, it is suggested that low hemodynamic activities in this area are correlated with ADHD.\n",
      "\n",
      "ID: owDXHI0BUtdyfxKMdjde\n",
      "PMID: 26328655\n",
      "Chunk ID: 0\n",
      "Text: Idiopathic hypoparathyroidism (IHP) is accompanied by cognitive impairment. We report the case of a 70-year-old IHP patient with cognitive disturbance. Brain computed tomography showed bilateral calcification in basal ganglia, thalamus, and cerebellum. Neuropsychological assessment revealed low scores for intelligence, memory, and perseverative errors. Brain positron emission tomography showed a significant reduction in [(18)F]-Fludeoxyglucose (FDG) uptake in bilateral frontal, left temporal and parietal cortices, along with a marked reduction in [(11)C]-flumazenil binding in left frontal, temporal, parietal, and bilateral cerebellum. These findings suggest cognitive impairment in IHP may be ascribed to GABAergic dysfunction, thus leading to, or coexisting with, cerebral hypometabolism.\n",
      "\n",
      "ID: HADXHI0BUtdyfxKMOii_\n",
      "PMID: 24313565\n",
      "Chunk ID: 1\n",
      "Text: significantly related with FT4 concentration. It is concluded that young hypogonadal patients have impaired emotional state and quality of life, but the most severe impairment was found in cognitive functioning.\n"
     ]
    }
   ],
   "source": [
    "pretty_response(results)"
   ]
  }
 ],
 "metadata": {
  "kernelspec": {
   "display_name": "Python 3",
   "language": "python",
   "name": "python3"
  },
  "language_info": {
   "codemirror_mode": {
    "name": "ipython",
    "version": 3
   },
   "file_extension": ".py",
   "mimetype": "text/x-python",
   "name": "python",
   "nbconvert_exporter": "python",
   "pygments_lexer": "ipython3",
   "version": "3.9.0rc2"
  }
 },
 "nbformat": 4,
 "nbformat_minor": 2
}
