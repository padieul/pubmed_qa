{
 "cells": [
  {
   "cell_type": "code",
   "execution_count": 16,
   "metadata": {},
   "outputs": [
    {
     "name": "stderr",
     "output_type": "stream",
     "text": [
      "c:\\Users\\a.almasri\\AppData\\Local\\Programs\\Python\\Python39\\lib\\site-packages\\bitsandbytes\\cextension.py:34: UserWarning: The installed version of bitsandbytes was compiled without GPU support. 8-bit optimizers, 8-bit multiplication, and GPU quantization are unavailable.\n",
      "  warn(\"The installed version of bitsandbytes was compiled without GPU support. \"\n"
     ]
    },
    {
     "name": "stdout",
     "output_type": "stream",
     "text": [
      "'NoneType' object has no attribute 'cadam32bit_grad_fp32'\n",
      "WARNING:tensorflow:From c:\\Users\\a.almasri\\AppData\\Local\\Programs\\Python\\Python39\\lib\\site-packages\\keras\\src\\losses.py:2976: The name tf.losses.sparse_softmax_cross_entropy is deprecated. Please use tf.compat.v1.losses.sparse_softmax_cross_entropy instead.\n",
      "\n"
     ]
    }
   ],
   "source": [
    "from opensearchpy import OpenSearch\n",
    "from angle_emb import AnglE, Prompts"
   ]
  },
  {
   "cell_type": "code",
   "execution_count": 18,
   "metadata": {},
   "outputs": [
    {
     "name": "stderr",
     "output_type": "stream",
     "text": [
      "INFO:AnglE:Prompt is set, the prompt will be automatically applied during the encoding phase. To disable prompt setting, please configure set_prompt(prompt=None)\n"
     ]
    }
   ],
   "source": [
    "# Initialize AnglE embedding model\n",
    "angle = AnglE.from_pretrained('WhereIsAI/UAE-Large-V1', pooling_strategy='cls').cuda()\n",
    "# Enable Prompt.C for retrieval optimized embeddings\n",
    "angle.set_prompt(prompt=Prompts.C)   "
   ]
  },
  {
   "cell_type": "code",
   "execution_count": 19,
   "metadata": {},
   "outputs": [],
   "source": [
    "# OpenSearch instance parameters\n",
    "host = 'localhost'\n",
    "port = 9200\n",
    "auth = ('admin', 'admin')\n",
    "\n",
    "# Create the client with SSL/TLS enabled and disable warnings\n",
    "client = OpenSearch(\n",
    "    hosts = [{'host': host, 'port': port}],    \n",
    "    http_auth = auth,\n",
    "    use_ssl = True,\n",
    "    verify_certs = False,\n",
    "    ssl_show_warn = False,\n",
    ")"
   ]
  },
  {
   "cell_type": "code",
   "execution_count": 20,
   "metadata": {},
   "outputs": [
    {
     "name": "stderr",
     "output_type": "stream",
     "text": [
      "INFO:opensearch:GET https://localhost:9200/ [status:200 request:0.339s]\n"
     ]
    },
    {
     "data": {
      "text/plain": [
       "{'name': 'opensearch',\n",
       " 'cluster_name': 'docker-cluster',\n",
       " 'cluster_uuid': 'ghgK1h_FSeefVD9yf6_gag',\n",
       " 'version': {'distribution': 'opensearch',\n",
       "  'number': '2.11.1',\n",
       "  'build_type': 'tar',\n",
       "  'build_hash': '6b1986e964d440be9137eba1413015c31c5a7752',\n",
       "  'build_date': '2023-11-29T21:43:10.135035992Z',\n",
       "  'build_snapshot': False,\n",
       "  'lucene_version': '9.7.0',\n",
       "  'minimum_wire_compatibility_version': '7.10.0',\n",
       "  'minimum_index_compatibility_version': '7.0.0'},\n",
       " 'tagline': 'The OpenSearch Project: https://opensearch.org/'}"
      ]
     },
     "execution_count": 20,
     "metadata": {},
     "output_type": "execute_result"
    }
   ],
   "source": [
    "# Testing connection to OpenSearch\n",
    "client.info()"
   ]
  },
  {
   "cell_type": "code",
   "execution_count": 24,
   "metadata": {},
   "outputs": [],
   "source": [
    "# Query embedding\n",
    "query = \"where does hypotonia typically appear?\"\n",
    "query_emb = angle.encode({'text': query})"
   ]
  },
  {
   "cell_type": "code",
   "execution_count": 27,
   "metadata": {},
   "outputs": [],
   "source": [
    "# Defining the knn query parameters\n",
    "search_query = {    \n",
    "    \"query\": {\n",
    "        \"knn\": {\n",
    "            \"embedding\": {\n",
    "                \"vector\": query_emb[0].tolist(),\n",
    "                \"k\": 3\n",
    "            }\n",
    "        }\n",
    "    }\n",
    "}"
   ]
  },
  {
   "cell_type": "code",
   "execution_count": 28,
   "metadata": {},
   "outputs": [
    {
     "name": "stderr",
     "output_type": "stream",
     "text": [
      "INFO:opensearch:POST https://localhost:9200/pubmed_index/_search [status:200 request:0.162s]\n"
     ]
    }
   ],
   "source": [
    "# Send a knn query to OpenSearch\n",
    "results = client.search(index=\"pubmed_index\", body=search_query)"
   ]
  },
  {
   "cell_type": "code",
   "execution_count": 29,
   "metadata": {},
   "outputs": [],
   "source": [
    "# Helper function to view the reposes easily\n",
    "def pretty_response(response):\n",
    "    for hit in response['hits']['hits']:\n",
    "        id = hit['_id']\n",
    "        score = hit['_score']\n",
    "        pmid = hit['_source']['pmid']\n",
    "        chunk_id = hit['_source']['chunk_id']  \n",
    "        chunk = hit['_source']['chunk']      \n",
    "        pretty_output = (f\"\\nID: {id}\\nPMID: {pmid}\\nChunk ID: {chunk_id}\\nText: {chunk}\")\n",
    "        print(pretty_output)"
   ]
  },
  {
   "cell_type": "code",
   "execution_count": 30,
   "metadata": {},
   "outputs": [
    {
     "name": "stdout",
     "output_type": "stream",
     "text": [
      "\n",
      "ID: HAsgOI0BrWW60NSubi17\n",
      "PMID: 23333410\n",
      "Chunk ID: 6\n",
      "Text: VIQ score in the severe delay range. Abnormal muscle tonicity was found in 35% (hypotonicity 33%, hypertonicity 2%). Need for ECMO, prolonged ventilation, hypotonicity, and other surrogate markers of disease severity (P<0.05) were associated with borderline or delayed neurological outcome. CONCLUSION: The majority of CDH children are functioning in the average range at early preschool and preschool age. Neuromuscular hypotonicity is common in CDH survivors. CDH severity appears to be predictive\n",
      "\n",
      "ID: hgsgOI0BrWW60NSuZys6\n",
      "PMID: 20301331\n",
      "Chunk ID: 1\n",
      "Text: In infancy, hypotonia is typical, and acquisition of developmental motor milestones is often both aberrant in pattern and delayed. Intelligence and life span are usually near normal, although craniocervical junction compression increases the risk of death in infancy. Additional complications include obstructive sleep apnea, middle ear dysfunction, kyphosis, and spinal stenosis. DIAGNOSIS/TESTING: Achondroplasia can be diagnosed by characteristic clinical and radiographic findings in most\n",
      "\n",
      "ID: GwsgOI0BrWW60NSubi17\n",
      "PMID: 23333410\n",
      "Chunk ID: 5\n",
      "Text: least one. Only 3 (7%) patients demonstrated severe neurological delays for all BSID-III composite scales. For the WPPSI-III group, 4 (22%) patients scored within the borderline-delayed range for at least one subscale and only one (6%) child had a WPPSI-III VIQ score in the severe delay range. Abnormal muscle tonicity was found in 35% (hypotonicity 33%, hypertonicity 2%). Need for ECMO, prolonged ventilation, hypotonicity, and other surrogate markers of disease severity (P<0.05) were associated\n"
     ]
    }
   ],
   "source": [
    "pretty_response(results)"
   ]
  }
 ],
 "metadata": {
  "kernelspec": {
   "display_name": "Python 3",
   "language": "python",
   "name": "python3"
  },
  "language_info": {
   "codemirror_mode": {
    "name": "ipython",
    "version": 3
   },
   "file_extension": ".py",
   "mimetype": "text/x-python",
   "name": "python",
   "nbconvert_exporter": "python",
   "pygments_lexer": "ipython3",
   "version": "3.9.0rc2"
  }
 },
 "nbformat": 4,
 "nbformat_minor": 2
}
