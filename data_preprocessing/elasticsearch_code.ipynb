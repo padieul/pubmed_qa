{
 "cells": [
  {
   "cell_type": "code",
   "execution_count": null,
   "metadata": {},
   "outputs": [],
   "source": [
    "from elasticsearch import Elasticsearch"
   ]
  },
  {
   "cell_type": "code",
   "execution_count": null,
   "metadata": {},
   "outputs": [],
   "source": [
    "# Create the client instance\n",
    "client = Elasticsearch(\n",
    "    \"http://localhost:9200\"    \n",
    ")"
   ]
  },
  {
   "cell_type": "code",
   "execution_count": null,
   "metadata": {},
   "outputs": [],
   "source": [
    "# Testing connection to Elasticsearch\n",
    "print(client.info())"
   ]
  },
  {
   "cell_type": "code",
   "execution_count": null,
   "metadata": {},
   "outputs": [],
   "source": [
    "# Create Elasticsearch Index\n",
    "\n",
    "index_mapping= {\n",
    "    \"properties\": {\n",
    "      \"PMID\": {\n",
    "          \"type\": \"integer\"\n",
    "      },\n",
    "      \"Title\": {\n",
    "          \"type\": \"text\"\n",
    "      },\n",
    "      \"Abstract\": {\n",
    "          \"type\": \"text\"\n",
    "      },\n",
    "      \"Key_words\": {\n",
    "          \"type\": \"nested\"\n",
    "      },\n",
    "      \"Authors\": {\n",
    "          \"type\": \"nested\"\n",
    "      },\n",
    "      \"Journal\": {\n",
    "          \"type\": \"keyword\"\n",
    "      },\n",
    "      \"Year\" : {\n",
    "          \"type\": \"integer\"\n",
    "      },\n",
    "      \"Month\": {\n",
    "          \"type\": \"integer\"\n",
    "      },\n",
    "      \"Source\": {\n",
    "          \"type\": \"text\"\n",
    "      },\n",
    "      \"Country\": {\n",
    "          \"type\": \"keyword\"\n",
    "      },\n",
    "      \"title_vector\": {\n",
    "          \"type\": \"dense_vector\",\n",
    "          \"dims\": 1536,\n",
    "          \"index\": \"true\",\n",
    "          \"similarity\": \"cosine\"\n",
    "      },\n",
    "      \"content_vector\": {\n",
    "          \"type\": \"dense_vector\",\n",
    "          \"dims\": 1536,\n",
    "          \"index\": \"true\",\n",
    "          \"similarity\": \"cosine\"\n",
    "      }      \n",
    "    }\n",
    "}\n",
    "\n",
    "client.indices.create(index=\"pubmed_index\", mappings=index_mapping)"
   ]
  },
  {
   "cell_type": "code",
   "execution_count": null,
   "metadata": {},
   "outputs": [],
   "source": [
    "# Check created index\n",
    "client.indices.get(index=\"pubmed_index\")"
   ]
  }
 ],
 "metadata": {
  "language_info": {
   "name": "python"
  }
 },
 "nbformat": 4,
 "nbformat_minor": 2
}
