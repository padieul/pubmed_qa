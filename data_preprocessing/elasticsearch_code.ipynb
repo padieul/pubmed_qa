{
 "cells": [
  {
   "cell_type": "code",
   "execution_count": null,
   "metadata": {},
   "outputs": [],
   "source": [
    "from elasticsearch import Elasticsearch\n",
    "from sentence_transformers import SentenceTransformer, util\n",
    "model = SentenceTransformer('all-mpnet-base-v2')"
   ]
  },
  {
   "cell_type": "code",
   "execution_count": null,
   "metadata": {},
   "outputs": [],
   "source": [
    "# Create the client instance\n",
    "client = Elasticsearch(\n",
    "    \"http://localhost:9200\"    \n",
    ")"
   ]
  },
  {
   "cell_type": "code",
   "execution_count": null,
   "metadata": {},
   "outputs": [],
   "source": [
    "# Testing connection to Elasticsearch\n",
    "print(client.info())"
   ]
  },
  {
   "cell_type": "code",
   "execution_count": null,
   "metadata": {},
   "outputs": [],
   "source": [
    "query = \"where does hypotonia typically appear?\"\n",
    "query_emb = model.encode(query)"
   ]
  },
  {
   "cell_type": "code",
   "execution_count": null,
   "metadata": {},
   "outputs": [],
   "source": [
    "response = client.search(\n",
    "  index = \"pubmed_index\",\n",
    "  knn={\n",
    "      \"field\": \"embedding\",\n",
    "      \"query_vector\":  query_emb.tolist(),\n",
    "      \"k\": 10,\n",
    "      \"num_candidates\": 100\n",
    "    }\n",
    ")\n"
   ]
  },
  {
   "cell_type": "code",
   "execution_count": 13,
   "metadata": {},
   "outputs": [],
   "source": [
    "def pretty_response(response):\n",
    "    for hit in response['hits']['hits']:\n",
    "        id = hit['_id']\n",
    "        score = hit['_score']\n",
    "        pmid = hit['_source']['pmid']\n",
    "        chunk_id = hit['_source']['chunk_id']  \n",
    "        chunk = hit['_source']['chunk']      \n",
    "        pretty_output = (f\"\\nID: {id}\\nPMID: {pmid}\\nChunk ID: {chunk_id}\\nText: {chunk}\")\n",
    "        print(pretty_output)"
   ]
  },
  {
   "cell_type": "code",
   "execution_count": 14,
   "metadata": {},
   "outputs": [
    {
     "name": "stdout",
     "output_type": "stream",
     "text": [
      "\n",
      "ID: 3X9t-IwB7lFzLptVrWEV\n",
      "PMID: 23414618\n",
      "Chunk ID: 1\n",
      "Text: LPFC. In addition, it is suggested that low hemodynamic activities in this area are correlated with ADHD.\n",
      "\n",
      "ID: w39u-IwB7lFzLptVD3qN\n",
      "PMID: 26677764\n",
      "Chunk ID: 1\n",
      "Text: spatial and quantitative effects might be present only in adult patients with CAH; however, reduced DS performance was found in patients with CAH regardless of age group. Separate regression analyses showed that DS predicted both spatial perception and quantitative performance (both p </= .001), when age, sex, and diagnosis status were controlled. Thus, reduced STM in CAH patients versus controls may have more general cognitive consequences, potentially reducing spatial perception and quantitative skills. Although hyponatremia or other aspects of salt-wasting crises or additional hormone abnormalities cannot be ruled out as potential contributors, elevated GCs appear to be the most likely contributor to reductions in STM. Additional efforts to monitor GC administration protocols may help achieve optimal cognitive outcomes. Educational intervention for individuals with CAH might also be useful.\n",
      "\n",
      "ID: 4X9u-IwB7lFzLptVBHd7\n",
      "PMID: 26328655\n",
      "Chunk ID: 0\n",
      "Text: Idiopathic hypoparathyroidism (IHP) is accompanied by cognitive impairment. We report the case of a 70-year-old IHP patient with cognitive disturbance. Brain computed tomography showed bilateral calcification in basal ganglia, thalamus, and cerebellum. Neuropsychological assessment revealed low scores for intelligence, memory, and perseverative errors. Brain positron emission tomography showed a significant reduction in [(18)F]-Fludeoxyglucose (FDG) uptake in bilateral frontal, left temporal and parietal cortices, along with a marked reduction in [(11)C]-flumazenil binding in left frontal, temporal, parietal, and bilateral cerebellum. These findings suggest cognitive impairment in IHP may be ascribed to GABAergic dysfunction, thus leading to, or coexisting with, cerebral hypometabolism.\n",
      "\n",
      "ID: jn9t-IwB7lFzLptVuGSM\n",
      "PMID: 23809646\n",
      "Chunk ID: 1\n",
      "Text: with an increase in the functional status of somatodendritic, but not postsynaptic, 5-HT1A autoreceptors, in medication-free depressed patients in line with hypotheses based on genetic data. This increase in functional status would be hypothesized to lead to an increase in serotonergic negative feedback, and hence decreased release of 5-HT at raphe projection sites, in depressed patients.\n",
      "\n",
      "ID: vX9t-IwB7lFzLptV0Grv\n",
      "PMID: 24676006\n",
      "Chunk ID: 1\n",
      "Text: impairment. Thirteen of 16 (81%) patients with normal findings on the second PET showed normal intelligence. A significant correlation was found between the second PET and long-term seizure (P = .01) or developmental outcome (P = .03). CONCLUSIONS: Cortical hypometabolism is not permanent; it changes with clinical symptoms. Hypometabolism after initial treatment predicts long-term seizures and poor developmental outcome.\n",
      "\n",
      "ID: Wn9t-IwB7lFzLptVx2i1\n",
      "PMID: 24313565\n",
      "Chunk ID: 1\n",
      "Text: significantly related with FT4 concentration. It is concluded that young hypogonadal patients have impaired emotional state and quality of life, but the most severe impairment was found in cognitive functioning.\n",
      "\n",
      "ID: nn9u-IwB7lFzLptVQocC\n",
      "PMID: 28410856\n",
      "Chunk ID: 1\n",
      "Text: time; only supramarginal hypometabolism was positively related to rate of increase of apathy. CONCLUSIONS: Results support an association of apathy with hypometabolism in parietal regions commonly affected in early stages of AD, rather than medial frontal regions implicated in the neurobiology of apathy in later stages. Further work is needed to substantiate whether this localization is specific to apathy rather than to disease stage, and to investigate the potential role of AD proteinopathies in the pathogenesis of apathy.\n",
      "\n",
      "ID: ln9t-IwB7lFzLptVxGeq\n",
      "PMID: 24185090\n",
      "Chunk ID: 0\n",
      "Text: Normal Pressure Hydrocephalus due to idiopathic aqueductal stenosis is a chronic abnormal accumulation of cerebrospinal fluid in the cerebral ventricles caused by an obstruction in the Sylvian aqueduct. This leads to a dilatation of the ventricular system and to subsequent damage of the adjacent parenchyma. Although NPH typically presents with the progressive 'triad' of cognitive impairment, gait disturbance and urinary incontinence, it has been described that it rarely manifests in the form of predominant psychotic symptoms. It has been suggested that thought and perceptual disorders could develop secondary to the damage caused by NPH. Although precise anatomical correlates have not yet been established, certain cerebral regions -primarily the frontal cortex, mesencephalic and diencephalic structures of the brain- have been implicated in the pathogenesis of hydrocephalic psychosis. Because frontal lobe lesions are traditionally known to facilitate one's inability to integrate and correct perceptual distortions in the face of contradictory evidence, frontal lobe dysfunction may be integral in delineating the etiology of delusions in NPH. We present the case of a 30-year-old female, admitted involuntarily to our acute psychiatric department because she exhibited aggressive behavior while being in an agitated state with delusions of persecution. Her neurological examination disclosed subtle bradykinesia. Neuropsychological batteries and intelligence testing revealed mild\n",
      "\n",
      "ID: 5H9t-IwB7lFzLptVp2AS\n",
      "PMID: 20301331\n",
      "Chunk ID: 0\n",
      "Text: CLINICAL CHARACTERISTICS: Achondroplasia is the most common cause of disproportionate short stature. Affected individuals have rhizomelic shortening of the limbs, macrocephaly, and characteristic facial features with frontal bossing and midface retrusion. In infancy, hypotonia is typical, and acquisition of developmental motor milestones is often both aberrant in pattern and delayed. Intelligence and life span are usually near normal, although craniocervical junction compression increases the risk of death in infancy. Additional complications include obstructive sleep apnea, middle ear dysfunction, kyphosis, and spinal stenosis. DIAGNOSIS/TESTING: Achondroplasia can be diagnosed by characteristic clinical and radiographic findings in most affected individuals. In individuals in whom there is diagnostic uncertainty or who have atypical findings, identification of a heterozygous pathogenic variant in FGFR3 can establish the diagnosis. MANAGEMENT: Treatment of manifestations: Vosoritide, a C-type natriuretic peptide (CNP) analog, was recently approved to enhance height in individuals with achondroplasia from age five years until growth plates close. Ventriculoperitoneal shunt may be required for increased intracranial pressure; suboccipital decompression as indicated for signs and symptoms of craniocervical junction compression; adenotonsillectomy, positive airway pressure, and, rarely, tracheostomy to correct obstructive sleep apnea; pressure-equalizing tubes for middle ear\n",
      "\n",
      "ID: _n9u-IwB7lFzLptVE3vS\n",
      "PMID: 26842768\n",
      "Chunk ID: 0\n",
      "Text: Bosma arhinia microphthalmia syndrome (Bosma syndrome)(OMIM 603457) is a congenital condition characterized by microphthalmia with coloboma, arhinia and endocrine findings in the setting of normal intelligence and brain structure. This condition is quite rare with fewer than 50 case reports and series. Although pathogenesis is presumed to be genetic, the cause remains unknown. We report an individual with Bosma syndrome who had bilateral colobomatous microphthalmia, arhinia, high arched palate, mild ear malformations, and hypogonadotropic hypogonadism requiring growth hormone treatment in childhood, and normal intelligence. Clinical evaluation was significant for a geometrically abnormal aorta with effacement of the sinotubular ridge, a finding not previously reported in this condition. An MRI revealed absent olfactory bulbs. Suggested criteria for diagnosis of Bosma should include arhinia, hypoplastic maxilla, normal cognition, and hypogonadotropic hypogonadism in males.\n"
     ]
    }
   ],
   "source": [
    "pretty_response(response)"
   ]
  }
 ],
 "metadata": {
  "kernelspec": {
   "display_name": "Python 3",
   "language": "python",
   "name": "python3"
  },
  "language_info": {
   "codemirror_mode": {
    "name": "ipython",
    "version": 3
   },
   "file_extension": ".py",
   "mimetype": "text/x-python",
   "name": "python",
   "nbconvert_exporter": "python",
   "pygments_lexer": "ipython3",
   "version": "3.9.0rc2"
  }
 },
 "nbformat": 4,
 "nbformat_minor": 2
}
